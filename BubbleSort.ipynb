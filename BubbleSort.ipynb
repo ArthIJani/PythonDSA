{
  "nbformat": 4,
  "nbformat_minor": 0,
  "metadata": {
    "colab": {
      "provenance": []
    },
    "kernelspec": {
      "name": "python3",
      "display_name": "Python 3"
    },
    "language_info": {
      "name": "python"
    }
  },
  "cells": [
    {
      "cell_type": "code",
      "source": [
        "arr = [5,2,1,3,4]"
      ],
      "metadata": {
        "id": "31QXLGPLySzu"
      },
      "execution_count": null,
      "outputs": []
    },
    {
      "cell_type": "code",
      "execution_count": null,
      "metadata": {
        "colab": {
          "base_uri": "https://localhost:8080/"
        },
        "id": "IFQ72bZ_qJv-",
        "outputId": "a177a703-cae6-44f3-b0ba-45d0dccd5842"
      },
      "outputs": [
        {
          "output_type": "stream",
          "name": "stdout",
          "text": [
            "[1, 2, 3, 4, 5]\n"
          ]
        }
      ],
      "source": [
        "def bubble(arr):\n",
        "  arr_len = len(arr)\n",
        "  for i in range(arr_len-1):\n",
        "    flag = 0\n",
        "    for j in range(arr_len-i-1):\n",
        "      if arr[j] > arr[j+1]:\n",
        "        arr[j], arr[j+1] = arr[j+1], arr[j]\n",
        "        flag = 1\n",
        "        if flag == 0:\n",
        "          break\n",
        "  return arr\n",
        "\n",
        "print(bubble(arr))"
      ]
    }
  ]
}