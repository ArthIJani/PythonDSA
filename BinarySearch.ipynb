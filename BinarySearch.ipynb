{
  "nbformat": 4,
  "nbformat_minor": 0,
  "metadata": {
    "colab": {
      "provenance": []
    },
    "kernelspec": {
      "name": "python3",
      "display_name": "Python 3"
    },
    "language_info": {
      "name": "python"
    }
  },
  "cells": [
    {
      "cell_type": "code",
      "execution_count": 1,
      "metadata": {
        "id": "V5E2rxTOe3vj"
      },
      "outputs": [],
      "source": [
        "import random\n",
        "import time"
      ]
    },
    {
      "cell_type": "markdown",
      "source": [
        "# **Binary Search**"
      ],
      "metadata": {
        "id": "x4hZ5IK7iWCU"
      }
    },
    {
      "cell_type": "markdown",
      "source": [
        "Time Complexity : O(log(n))"
      ],
      "metadata": {
        "id": "z4nRft1niYlw"
      }
    },
    {
      "cell_type": "code",
      "source": [
        "def binary_search(l, target, low=None, high=None):\n",
        "  if low is None:\n",
        "    low = 0\n",
        "  if high is None:\n",
        "    high = len(l) - 1\n",
        "\n",
        "  if high < low:\n",
        "    return -1\n",
        "\n",
        "  midpoint = (low + high) // 2\n",
        "\n",
        "  if l[midpoint] == target:\n",
        "    return midpoint\n",
        "  elif target < l[midpoint]:\n",
        "    return binary_search(l, target, low, midpoint-1)\n",
        "  else:\n",
        "    return binary_search(l, target, midpoint+1, high)"
      ],
      "metadata": {
        "id": "tPFWzoKvfW9S"
      },
      "execution_count": 3,
      "outputs": []
    },
    {
      "cell_type": "code",
      "source": [
        "if __name__ == '__main__':\n",
        "  length = 10000\n",
        "  sorted_list = set()\n",
        "\n",
        "  while len(sorted_list) < length:\n",
        "    sorted_list.add(random.randint(-3*length, 3*length))\n",
        "  sorted_list = sorted(list(sorted_list))\n",
        "\n",
        "  start = time.time()\n",
        "  for target in sorted_list:\n",
        "    binary_search(sorted_list, target)\n",
        "  end = time.time()\n",
        "  print(\"Binary search time: \",(end - start),\"seconds\")\n"
      ],
      "metadata": {
        "colab": {
          "base_uri": "https://localhost:8080/"
        },
        "id": "4YKK_iscgXlv",
        "outputId": "1a78d83b-4e66-45db-e451-9fb09bb53e8a"
      },
      "execution_count": 4,
      "outputs": [
        {
          "output_type": "stream",
          "name": "stdout",
          "text": [
            "Binary search time:  0.06103706359863281 seconds\n"
          ]
        }
      ]
    }
  ]
}